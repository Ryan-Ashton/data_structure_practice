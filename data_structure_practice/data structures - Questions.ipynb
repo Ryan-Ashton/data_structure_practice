{
 "cells": [
  {
   "cell_type": "markdown",
   "metadata": {},
   "source": [
    "# Nodes"
   ]
  },
  {
   "cell_type": "code",
   "execution_count": null,
   "metadata": {},
   "outputs": [],
   "source": [
    "class Node:\n",
    "    \n",
    "    # Initialise Node\n",
    "    \n",
    "    # Set next node\n",
    "\n",
    "    # Get next node\n",
    "    \n",
    "    # Set previous node\n",
    "    \n",
    "    # Get previous node\n",
    "    \n",
    "    # Get value\n",
    "\n"
   ]
  },
  {
   "cell_type": "code",
   "execution_count": null,
   "metadata": {},
   "outputs": [],
   "source": [
    "class TreeNode:\n",
    "    \n",
    "    # Initiialise TreeNode\n",
    "    \n",
    "    # Add child\n",
    "    \n",
    "    # Remove child\n",
    "    \n",
    "    # Traverse\n"
   ]
  },
  {
   "cell_type": "code",
   "execution_count": null,
   "metadata": {},
   "outputs": [],
   "source": [
    "class Vertex:\n",
    "    \n",
    "    # Initialise Vertex\n",
    "    \n",
    "    # Add an edge\n",
    "    \n",
    "    # Get an edge\n"
   ]
  },
  {
   "cell_type": "markdown",
   "metadata": {},
   "source": [
    "# DoublyLinkedList"
   ]
  },
  {
   "cell_type": "code",
   "execution_count": null,
   "metadata": {},
   "outputs": [],
   "source": [
    "class DoublyLinkedList:\n",
    "    \n",
    "    # Initialise DoublyLinkedList\n",
    "    \n",
    "    # Add to head\n",
    "    \n",
    "    # Add to tail\n",
    "    \n",
    "    # Remove head\n",
    "    \n",
    "    # Remove tail\n",
    "    \n",
    "    # Remove by value\n",
    "\n",
    "\n",
    "    def stringify_list(self):\n",
    "        string_list = \"\"\n",
    "        current_node = self.head_node\n",
    "        while current_node:\n",
    "            if current_node.get_value() != None:\n",
    "                string_list += str(current_node.get_value()) + \"\\n\"\n",
    "                current_node = current_node.get_next_node()\n",
    "        return string_list"
   ]
  },
  {
   "cell_type": "code",
   "execution_count": null,
   "metadata": {},
   "outputs": [],
   "source": [
    "# DoublyLinkedList Test\n",
    "\n",
    "subway = DoublyLinkedList()\n",
    "subway.add_to_head(\"Times Square\")\n",
    "subway.add_to_head(\"Grand Central\")\n",
    "subway.add_to_head(\"Central Park\")\n",
    "\n",
    "print(subway.stringify_list())\n",
    "\n",
    "subway.add_to_tail(\"Penn Station\")\n",
    "subway.add_to_tail(\"Wall Street\")\n",
    "subway.add_to_tail(\"Brooklyn Bridge\")\n",
    "\n",
    "print(subway.stringify_list())\n",
    "\n",
    "subway.remove_head()\n",
    "subway.remove_tail()\n",
    "\n",
    "print(subway.stringify_list())\n",
    "\n",
    "subway.remove_by_value(\"Times Square\")\n",
    "\n",
    "print(subway.stringify_list())"
   ]
  },
  {
   "cell_type": "markdown",
   "metadata": {},
   "source": [
    "# Queue"
   ]
  },
  {
   "cell_type": "code",
   "execution_count": null,
   "metadata": {},
   "outputs": [],
   "source": [
    "class Queue:\n",
    "    \n",
    "    # Initialise Queue\n",
    "    \n",
    "    # Enqueue\n",
    "    \n",
    "    # Dequeue\n",
    "    \n",
    "    # Peek\n",
    "    \n",
    "    # Get size\n",
    "    \n",
    "    # Has space\n",
    "    \n",
    "    # Is empty\n"
   ]
  },
  {
   "cell_type": "code",
   "execution_count": null,
   "metadata": {},
   "outputs": [],
   "source": [
    "# Queue Test\n",
    "\n",
    "deli_line = Queue(10)\n",
    "print(\"Adding orders to our deli line...\\n------------\")\n",
    "deli_line.enqueue(\"egg and cheese on a roll\")\n",
    "deli_line.peek()\n",
    "deli_line.get_size()\n",
    "deli_line.has_space()\n",
    "deli_line.is_empty()\n",
    "deli_line.dequeue()"
   ]
  },
  {
   "cell_type": "markdown",
   "metadata": {},
   "source": [
    "# Stack"
   ]
  },
  {
   "cell_type": "code",
   "execution_count": null,
   "metadata": {},
   "outputs": [],
   "source": [
    "class Stack:\n",
    "    \n",
    "    # Initialise Stack\n",
    "    \n",
    "    # Push\n",
    "    \n",
    "    # Pop\n",
    "    \n",
    "    # Peek\n",
    "    \n",
    "    # Has Space?\n",
    "    \n",
    "    # Is Empty?"
   ]
  },
  {
   "cell_type": "code",
   "execution_count": null,
   "metadata": {},
   "outputs": [],
   "source": [
    "# Stack tests\n",
    "\n",
    "pizza_stack = Stack(6)\n",
    "# Adding pizzas as they are ready until we have \n",
    "pizza_stack.push(\"pizza #1\")\n",
    "pizza_stack.push(\"pizza #2\")\n",
    "pizza_stack.push(\"pizza #3\")\n",
    "pizza_stack.push(\"pizza #4\")\n",
    "pizza_stack.push(\"pizza #5\")\n",
    "pizza_stack.push(\"pizza #6\")\n",
    "\n",
    "\n",
    "pizza_stack.peek()\n",
    "pizza_stack.has_space()\n",
    "pizza_stack.is_empty()\n",
    "\n",
    "# Uncomment the push() statement below:\n",
    "pizza_stack.push(\"pizza #7\")\n",
    "\n",
    "# Delivering pizzas from the top of the stack down\n",
    "print(\"The first pizza to deliver is \" + pizza_stack.peek())\n",
    "pizza_stack.pop()\n",
    "pizza_stack.pop()\n",
    "pizza_stack.pop()\n",
    "pizza_stack.pop()\n",
    "pizza_stack.pop()\n",
    "pizza_stack.pop()"
   ]
  },
  {
   "cell_type": "markdown",
   "metadata": {},
   "source": [
    "# HashMap"
   ]
  },
  {
   "cell_type": "code",
   "execution_count": null,
   "metadata": {},
   "outputs": [],
   "source": [
    "class HashMap:\n",
    "    \n",
    "    # Initialise HashMap\n",
    "    \n",
    "    # Hash\n",
    "    \n",
    "    # Compressor\n",
    "    \n",
    "    # Assign (and handle a collision)\n",
    "    \n",
    "    # Retrieve\n",
    "    \n"
   ]
  },
  {
   "cell_type": "code",
   "execution_count": null,
   "metadata": {},
   "outputs": [],
   "source": [
    "# Hashmap Tests\n",
    "\n",
    "hash_map = HashMap(15)\n",
    "\n",
    "hash_map.assign(key= 'gabbro', value='igneous')\n",
    "hash_map.assign(key= 'sandstone', value='sedimentary')\n",
    "hash_map.assign(key= 'gneiss', value='metamorphic')\n",
    "\n",
    "\n",
    "print(hash_map.retrieve('gabbro'))\n",
    "print(hash_map.retrieve('sandstone'))\n",
    "print(hash_map.retrieve('gneiss'))"
   ]
  },
  {
   "cell_type": "markdown",
   "metadata": {},
   "source": [
    "# Tree"
   ]
  },
  {
   "cell_type": "code",
   "execution_count": null,
   "metadata": {},
   "outputs": [],
   "source": [
    "import random\n",
    "\n",
    "class BinarySearchTree:\n",
    "    \n",
    "    # Initialise BinarySearchTree\n",
    "    \n",
    "    # Insert\n",
    "    \n",
    "    # Get Node by Value\n",
    "    \n",
    "    # Depth first traversal"
   ]
  },
  {
   "cell_type": "code",
   "execution_count": null,
   "metadata": {},
   "outputs": [],
   "source": [
    "# Tree test\n",
    "\n",
    "print(\"Creating Binary Search Tree rooted at value 15:\")\n",
    "tree = BinarySearchTree(15)\n",
    "\n",
    "for x in range(10):\n",
    "    tree.insert(random.randint(0, 100))\n",
    "  \n",
    "print(\"Printing the inorder depth-first traversal:\")\n",
    "tree.depth_first_traversal()"
   ]
  },
  {
   "cell_type": "markdown",
   "metadata": {},
   "source": [
    "# Heap"
   ]
  },
  {
   "cell_type": "code",
   "execution_count": null,
   "metadata": {},
   "outputs": [],
   "source": [
    "class MinHeap:\n",
    "    \n",
    "    # Initialise MinHeap\n",
    "\n",
    "    \n",
    "###############################################################\n",
    "\n",
    "# Helper functions\n",
    "\n",
    "    def parent_idx(self, idx):\n",
    "        return idx // 2\n",
    "\n",
    "    def left_child_idx(self, idx):\n",
    "        return idx * 2\n",
    "\n",
    "    def right_child_idx(self, idx):\n",
    "        return idx * 2 + 1\n",
    "\n",
    "    def child_present(self, idx):\n",
    "        return self.left_child_idx(idx) <= self.count\n",
    "  \n",
    "    def retrieve_min(self):\n",
    "        if self.count == 0:\n",
    "            print(\"No items in heap\")\n",
    "            return None\n",
    "    \n",
    "        min = self.heap_list[1]\n",
    "        self.heap_list[1] = self.heap_list[self.count]\n",
    "        self.count -= 1\n",
    "        self.heap_list.pop()\n",
    "        self.heapify_down()\n",
    "        return min\n",
    "\n",
    "###############################################################\n",
    "\n",
    "    # Add\n",
    "    \n",
    "\n",
    "    # Get smaller child idx\n",
    "    \n",
    "    \n",
    "    # Heapify up\n",
    "\n",
    "    \n",
    "    # Heapify down\n"
   ]
  },
  {
   "cell_type": "markdown",
   "metadata": {},
   "source": [
    "# Graph"
   ]
  },
  {
   "cell_type": "code",
   "execution_count": null,
   "metadata": {},
   "outputs": [],
   "source": [
    "class Graph:\n",
    "    \n",
    "    # Initialise Graph\n",
    "    \n",
    "    # Add vertex\n",
    "    \n",
    "    # Add edge\n",
    "    \n",
    "    # Find path\n"
   ]
  },
  {
   "cell_type": "code",
   "execution_count": null,
   "metadata": {},
   "outputs": [],
   "source": [
    "## Graph Testing ##\n",
    "\n",
    "from random import randrange\n",
    "\n",
    "def print_graph(graph):\n",
    "    for vertex in graph.graph_dict:\n",
    "        print(\"\")\n",
    "        print(vertex + \" connected to\")\n",
    "        vertex_neighbors = graph.graph_dict[vertex].edges\n",
    "        if len(vertex_neighbors) == 0:\n",
    "            print(\"No edges!\")\n",
    "        for adjacent_vertex in vertex_neighbors:\n",
    "            print(\"=> \" + adjacent_vertex)\n",
    "\n",
    "\n",
    "def build_graph(directed):\n",
    "    g = Graph(directed)\n",
    "    vertices = []\n",
    "    for val in ['a', 'b', 'c', 'd', 'e', 'f', 'g']:\n",
    "        vertex = Vertex(val)\n",
    "        vertices.append(vertex)\n",
    "        g.add_vertex(vertex)\n",
    "\n",
    "    for v in range(len(vertices)):\n",
    "        v_idx = randrange(0, len(vertices) - 1)\n",
    "        v1 = vertices[v_idx]\n",
    "        v_idx = randrange(0, len(vertices) - 1)\n",
    "        v2 = vertices[v_idx]\n",
    "        g.add_edge(v1, v2, randrange(1, 10))\n",
    "\n",
    "    print_graph(g)\n",
    "\n",
    "build_graph(False)\n"
   ]
  },
  {
   "cell_type": "code",
   "execution_count": null,
   "metadata": {},
   "outputs": [],
   "source": []
  }
 ],
 "metadata": {
  "kernelspec": {
   "display_name": "Python 3",
   "language": "python",
   "name": "python3"
  },
  "language_info": {
   "codemirror_mode": {
    "name": "ipython",
    "version": 3
   },
   "file_extension": ".py",
   "mimetype": "text/x-python",
   "name": "python",
   "nbconvert_exporter": "python",
   "pygments_lexer": "ipython3",
   "version": "3.8.3"
  }
 },
 "nbformat": 4,
 "nbformat_minor": 4
}
